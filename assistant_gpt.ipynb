{
 "cells": [
  {
   "cell_type": "code",
   "execution_count": 2,
   "metadata": {},
   "outputs": [],
   "source": [
    "from langchain.utilities.duckduckgo_search import DuckDuckGoSearchAPIWrapper\n",
    "import yfinance\n",
    "import json\n",
    "\n",
    "\n",
    "def get_ticker(inputs):\n",
    "    ddg = DuckDuckGoSearchAPIWrapper()\n",
    "    company_name = inputs[\"company_name\"]\n",
    "    return ddg.run(f\"Ticker symbol of {company_name}\")\n",
    "\n",
    "\n",
    "def get_income_statement(inputs):\n",
    "    ticker = inputs[\"ticker\"]\n",
    "    stock = yfinance.Ticker(ticker)\n",
    "    return json.dumps(stock.income_stmt.to_json())\n",
    "\n",
    "\n",
    "def get_balance_sheet(inputs):\n",
    "    ticker = inputs[\"ticker\"]\n",
    "    stock = yfinance.Ticker(ticker)\n",
    "    return json.dumps(stock.balance_sheet.to_json())\n",
    "\n",
    "\n",
    "def get_daily_stock_performance(inputs):\n",
    "    ticker = inputs[\"ticker\"]\n",
    "    stock = yfinance.Ticker(ticker)\n",
    "    return json.dumps(stock.history(period=\"3mo\").to_json())\n",
    "\n",
    "\n",
    "\n",
    "functions = [\n",
    "    {\n",
    "        \"type\": \"function\",\n",
    "        \"function\": {\n",
    "            \"name\": \"get_ticker\",\n",
    "            \"description\": \"Given the name of a company returns its ticker symbol\",\n",
    "            \"parameters\": {\n",
    "                \"type\": \"object\",\n",
    "                \"properties\": {\n",
    "                    \"company_name\": {\n",
    "                        \"type\": \"string\",\n",
    "                        \"description\": \"The name of the company\",\n",
    "                    }\n",
    "                },\n",
    "                \"required\": [\"company_name\"],\n",
    "            },\n",
    "        },\n",
    "    },\n",
    "    {\n",
    "        \"type\": \"function\",\n",
    "        \"function\": {\n",
    "            \"name\": \"get_income_statement\",\n",
    "            \"description\": \"Given a ticker symbol (i.e AAPL) returns the company's income statement.\",\n",
    "            \"parameters\": {\n",
    "                \"type\": \"object\",\n",
    "                \"properties\": {\n",
    "                    \"ticker\": {\n",
    "                        \"type\": \"string\",\n",
    "                        \"description\": \"Ticker symbol of the company\",\n",
    "                    },\n",
    "                },\n",
    "                \"required\": [\"ticker\"],\n",
    "            },\n",
    "        },\n",
    "    },\n",
    "    {\n",
    "        \"type\": \"function\",\n",
    "        \"function\": {\n",
    "            \"name\": \"get_balance_sheet\",\n",
    "            \"description\": \"Given a ticker symbol (i.e AAPL) returns the company's balance sheet.\",\n",
    "            \"parameters\": {\n",
    "                \"type\": \"object\",\n",
    "                \"properties\": {\n",
    "                    \"ticker\": {\n",
    "                        \"type\": \"string\",\n",
    "                        \"description\": \"Ticker symbol of the company\",\n",
    "                    },\n",
    "                },\n",
    "                \"required\": [\"ticker\"],\n",
    "            },\n",
    "        },\n",
    "    },\n",
    "    {\n",
    "        \"type\": \"function\",\n",
    "        \"function\": {\n",
    "            \"name\": \"get_daily_stock_performance\",\n",
    "            \"description\": \"Given a ticker symbol (i.e AAPL) returns the performance of the stock for the last 100 days.\",\n",
    "            \"parameters\": {\n",
    "                \"type\": \"object\",\n",
    "                \"properties\": {\n",
    "                    \"ticker\": {\n",
    "                        \"type\": \"string\",\n",
    "                        \"description\": \"Ticker symbol of the company\",\n",
    "                    },\n",
    "                },\n",
    "                \"required\": [\"ticker\"],\n",
    "            },\n",
    "        },\n",
    "    },\n",
    "]\n",
    "\n"
   ]
  },
  {
   "cell_type": "code",
   "execution_count": 3,
   "metadata": {},
   "outputs": [],
   "source": [
    "import openai as client\n",
    "\n",
    "assistant = client.beta.assistants.create(\n",
    "    name = \"Investor Assistant\",\n",
    "    description= \"You help users do research on publicly traded companies and you help users decide if they should buy the stock or not.\",\n",
    "    model=\"gpt-4-1106-preview\",\n",
    "    tools=functions,\n",
    ")\n",
    "assistant"
   ]
  },
  {
   "cell_type": "code",
   "execution_count": 12,
   "metadata": {},
   "outputs": [],
   "source": [
    "from langchain.utilities.duckduckgo_search import DuckDuckGoSearchAPIWrapper\n",
    "from langchain.utilities.wikipedia import WikipediaAPIWrapper\n",
    "import json\n",
    "\n",
    "#function 정의\n",
    "def get_from_duckduckgo(inputs):\n",
    "    ddg = DuckDuckGoSearchAPIWrapper()\n",
    "    keyword = inputs[\"keyword\"]\n",
    "    return ddg.run(f\"Search Keyworld : {keyword}\")\n",
    "\n",
    "\n",
    "def get_from_wiki(inputs):\n",
    "    wiki_wiki = WikipediaAPIWrapper()\n",
    "    keyword = inputs[\"keyword\"]\n",
    "    return wiki_wiki.run(f\"Search Keyworld : {keyword}\")\n",
    "\n",
    "functions_map = {\n",
    "    \"get_from_duckduckgo\": get_from_duckduckgo,\n",
    "    \"get_from_wiki\": get_from_wiki,\n",
    "}\n",
    "\n",
    "#function 스키마 정의\n",
    "functions = [\n",
    "    {\n",
    "        \"type\": \"function\",\n",
    "        \"function\": {\n",
    "            \"name\": \"get_from_duckduckgo\",\n",
    "            \"description\": \"Receives a keyword from the user and searches for relevant information using DuckDuckGo, then returns the result\",\n",
    "            \"parameters\": {\n",
    "                \"type\": \"object\",\n",
    "                \"properties\": {\n",
    "                    \"keyword\": {\n",
    "                        \"type\": \"string\",\n",
    "                        \"description\": \"The search keyword entered by the user.\"\n",
    "                    }\n",
    "                },\n",
    "                \"required\": [\"keyword\"],\n",
    "            },\n",
    "        },\n",
    "    },\n",
    "    {\n",
    "        \"type\": \"function\",\n",
    "        \"function\": {\n",
    "            \"name\": \"get_from_wiki\",\n",
    "            \"description\": \"Receives a keyword from the user and searches for relevant information using Wikipedia API, then returns the result\",\n",
    "            \"parameters\": {\n",
    "                \"type\": \"object\",\n",
    "                \"properties\": {\n",
    "                    \"keyword\": {\n",
    "                        \"type\": \"string\",\n",
    "                        \"description\": \"The search keyword entered by the user.\"\n",
    "                    }\n",
    "                },\n",
    "                \"required\": [\"keyword\"],\n",
    "            },\n",
    "        },\n",
    "    },\n",
    "]\n"
   ]
  },
  {
   "cell_type": "code",
   "execution_count": 2,
   "metadata": {},
   "outputs": [],
   "source": [
    "#Asistant 생성 *생성한 후엔 아이디만 전달해주면됨.\n",
    "import openai as client\n",
    "\n",
    "assistant = client.beta.assistants.create(\n",
    "    name=\"Search Assistant\",\n",
    "    instructions=\"You help users searching on duckduckgo or wikipedia\",\n",
    "    model=\"gpt-4-1106-preview\",\n",
    "    tools=functions,\n",
    ")"
   ]
  },
  {
   "cell_type": "code",
   "execution_count": 3,
   "metadata": {},
   "outputs": [],
   "source": [
    "assistant_id = \"asst_Yya9jn7w2pFJr2DnDuPH7RPP\""
   ]
  },
  {
   "cell_type": "code",
   "execution_count": 18,
   "metadata": {},
   "outputs": [
    {
     "data": {
      "text/plain": [
       "Thread(id='thread_H4Ul7QyglYceI9syzSmgExUt', created_at=1726409750, metadata={}, object='thread', tool_resources=ToolResources(code_interpreter=None, file_search=None))"
      ]
     },
     "execution_count": 18,
     "metadata": {},
     "output_type": "execute_result"
    }
   ],
   "source": [
    "#Thread 생성, 카톡방\n",
    "thread = client.beta.threads.create(\n",
    "    messages=[\n",
    "        {\n",
    "            \"role\": \"user\",\n",
    "            \"content\": \"firefox\",\n",
    "        }\n",
    "    ]\n",
    ")\n",
    "thread"
   ]
  },
  {
   "cell_type": "code",
   "execution_count": 5,
   "metadata": {},
   "outputs": [
    {
     "data": {
      "text/plain": [
       "Run(id='run_gKREUFjCh3moEYbGDsZDWvh5', assistant_id='asst_Yya9jn7w2pFJr2DnDuPH7RPP', cancelled_at=None, completed_at=None, created_at=1726406408, expires_at=1726407008, failed_at=None, incomplete_details=None, instructions='You help users searching on duckduckgo or wikipedia', last_error=None, max_completion_tokens=None, max_prompt_tokens=None, metadata={}, model='gpt-4-1106-preview', object='thread.run', parallel_tool_calls=True, required_action=None, response_format='auto', started_at=None, status='queued', thread_id='thread_cSMPQVWvROZ8LYxDN6M1xelI', tool_choice='auto', tools=[FunctionTool(function=FunctionDefinition(name='get_from_duckduckgo', description='Receives a keyword from the user and searches for relevant information using DuckDuckGo, then returns the result', parameters={'type': 'object', 'properties': {'keyword': {'type': 'string', 'description': 'The search keyword entered by the user.'}}, 'required': ['keyword']}, strict=False), type='function'), FunctionTool(function=FunctionDefinition(name='get_from_wiki', description='Receives a keyword from the user and searches for relevant information using Wikipedia API, then returns the result', parameters={'type': 'object', 'properties': {'keyword': {'type': 'string', 'description': 'The search keyword entered by the user.'}}, 'required': ['keyword']}, strict=False), type='function')], truncation_strategy=TruncationStrategy(type='auto', last_messages=None), usage=None, temperature=1.0, top_p=1.0, tool_resources={})"
      ]
     },
     "execution_count": 5,
     "metadata": {},
     "output_type": "execute_result"
    }
   ],
   "source": [
    "#Run\n",
    "run = client.beta.threads.runs.create(\n",
    "    thread_id=thread.id,\n",
    "    assistant_id=assistant_id,\n",
    ")\n",
    "run"
   ]
  },
  {
   "cell_type": "code",
   "execution_count": 13,
   "metadata": {},
   "outputs": [],
   "source": [
    "#그외 함수들\n",
    "def get_run(run_id, thread_id):\n",
    "    return client.beta.threads.runs.retrieve(\n",
    "        run_id=run_id,\n",
    "        thread_id=thread_id,\n",
    "    )\n",
    "\n",
    "\n",
    "def send_message(thread_id, content):\n",
    "    return client.beta.threads.messages.create(\n",
    "        thread_id=thread_id, role=\"user\", content=content\n",
    "    )\n",
    "\n",
    "\n",
    "def get_messages(thread_id):\n",
    "    messages = client.beta.threads.messages.list(thread_id=thread_id)\n",
    "    messages = list(messages)\n",
    "    messages.reverse()\n",
    "    for message in messages:\n",
    "        print(f\"{message.role}: {message.content[0].text.value}\")\n",
    "\n",
    "\n",
    "def get_tool_outputs(run_id, thread_id):\n",
    "    run = get_run(run_id, thread.id)\n",
    "    outputs = []\n",
    "    for action in run.required_action.submit_tool_outputs.tool_calls:\n",
    "        action_id = action.id\n",
    "        function = action.function\n",
    "        print(f\"Calling function: {function.name} with arg {function.arguments}\")\n",
    "        outputs.append(\n",
    "            {\n",
    "                \"output\": functions_map[function.name](json.loads(function.arguments)),\n",
    "                \"tool_call_id\": action_id,\n",
    "            }\n",
    "        )\n",
    "    return outputs\n",
    "\n",
    "\n",
    "def submit_tool_outputs(run_id, thread_id):\n",
    "    outpus = get_tool_outputs(run_id, thread_id)\n",
    "    return client.beta.threads.runs.submit_tool_outputs(\n",
    "        run_id=run_id, thread_id=thread_id, tool_outputs=outpus\n",
    "    )"
   ]
  },
  {
   "cell_type": "code",
   "execution_count": 14,
   "metadata": {},
   "outputs": [
    {
     "name": "stdout",
     "output_type": "stream",
     "text": [
      "Calling function: get_from_duckduckgo with arg {\"keyword\": \"firefox\"}\n",
      "Calling function: get_from_wiki with arg {\"keyword\": \"firefox\"}\n"
     ]
    },
    {
     "data": {
      "text/plain": [
       "Run(id='run_gKREUFjCh3moEYbGDsZDWvh5', assistant_id='asst_Yya9jn7w2pFJr2DnDuPH7RPP', cancelled_at=None, completed_at=None, created_at=1726406408, expires_at=1726407008, failed_at=None, incomplete_details=None, instructions='You help users searching on duckduckgo or wikipedia', last_error=None, max_completion_tokens=None, max_prompt_tokens=None, metadata={}, model='gpt-4-1106-preview', object='thread.run', parallel_tool_calls=True, required_action=None, response_format='auto', started_at=1726406409, status='queued', thread_id='thread_cSMPQVWvROZ8LYxDN6M1xelI', tool_choice='auto', tools=[FunctionTool(function=FunctionDefinition(name='get_from_duckduckgo', description='Receives a keyword from the user and searches for relevant information using DuckDuckGo, then returns the result', parameters={'type': 'object', 'properties': {'keyword': {'type': 'string', 'description': 'The search keyword entered by the user.'}}, 'required': ['keyword']}, strict=False), type='function'), FunctionTool(function=FunctionDefinition(name='get_from_wiki', description='Receives a keyword from the user and searches for relevant information using Wikipedia API, then returns the result', parameters={'type': 'object', 'properties': {'keyword': {'type': 'string', 'description': 'The search keyword entered by the user.'}}, 'required': ['keyword']}, strict=False), type='function')], truncation_strategy=TruncationStrategy(type='auto', last_messages=None), usage=None, temperature=1.0, top_p=1.0, tool_resources={})"
      ]
     },
     "execution_count": 14,
     "metadata": {},
     "output_type": "execute_result"
    }
   ],
   "source": [
    "submit_tool_outputs(run.id, thread.id)"
   ]
  },
  {
   "cell_type": "code",
   "execution_count": 15,
   "metadata": {},
   "outputs": [
    {
     "data": {
      "text/plain": [
       "'requires_action'"
      ]
     },
     "execution_count": 15,
     "metadata": {},
     "output_type": "execute_result"
    }
   ],
   "source": [
    "get_run(run.id, thread.id).status"
   ]
  },
  {
   "cell_type": "code",
   "execution_count": 16,
   "metadata": {},
   "outputs": [
    {
     "name": "stdout",
     "output_type": "stream",
     "text": [
      "user: firefox\n",
      "assistant: On DuckDuckGo, I found information mostly related to using the Firefox web browser's address bar for searching, managing search engines, and about the `about:config` preferences within Firefox. Additionally, there is mention of an extension called \"Keywords Everywhere,\" which is a browser add-on assisting users with online marketing and includes various search-related features.\n",
      "\n",
      "The Wikipedia search did not yield a good result for \"Firefox,\" which is unusual given that Mozilla Firefox is a well-known web browser and usually has a comprehensive Wikipedia page.\n",
      "\n",
      "Since the Wikipedia search did not provide a satisfactory result, I will attempt to gather more specific information about Mozilla Firefox using Wikipedia's API. Please wait for a moment while I do this.\n"
     ]
    }
   ],
   "source": [
    "get_messages(thread.id)"
   ]
  }
 ],
 "metadata": {
  "kernelspec": {
   "display_name": "env",
   "language": "python",
   "name": "python3"
  },
  "language_info": {
   "codemirror_mode": {
    "name": "ipython",
    "version": 3
   },
   "file_extension": ".py",
   "mimetype": "text/x-python",
   "name": "python",
   "nbconvert_exporter": "python",
   "pygments_lexer": "ipython3",
   "version": "3.11.9"
  }
 },
 "nbformat": 4,
 "nbformat_minor": 2
}
